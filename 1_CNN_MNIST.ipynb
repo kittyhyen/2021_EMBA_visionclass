{
 "cells": [
  {
   "cell_type": "code",
   "execution_count": 1,
   "metadata": {
    "executionInfo": {
     "elapsed": 4350,
     "status": "ok",
     "timestamp": 1614144959596,
     "user": {
      "displayName": "Yun Seok Choi",
      "photoUrl": "https://lh3.googleusercontent.com/a-/AOh14GhrZsqmpkGUEij82X0R64QM_A1pv0l_06CtOq_j=s64",
      "userId": "05693723351094624326"
     },
     "user_tz": -540
    },
    "id": "cOApJ0Qho96V"
   },
   "outputs": [],
   "source": [
    "import torch\n",
    "import torch.nn as nn\n",
    "import torch.optim as optim\n",
    "import torch.nn.functional as F\n",
    "from torchvision import datasets, transforms, utils\n",
    "from torch.utils import data\n",
    "\n",
    "import matplotlib.pyplot as plt\n",
    "import numpy as np"
   ]
  },
  {
   "cell_type": "code",
   "execution_count": 2,
   "metadata": {
    "executionInfo": {
     "elapsed": 4342,
     "status": "ok",
     "timestamp": 1614144959597,
     "user": {
      "displayName": "Yun Seok Choi",
      "photoUrl": "https://lh3.googleusercontent.com/a-/AOh14GhrZsqmpkGUEij82X0R64QM_A1pv0l_06CtOq_j=s64",
      "userId": "05693723351094624326"
     },
     "user_tz": -540
    },
    "id": "6wHsHPQ52fOL"
   },
   "outputs": [],
   "source": [
    "#!pip install ipdb"
   ]
  },
  {
   "cell_type": "code",
   "execution_count": 3,
   "metadata": {
    "executionInfo": {
     "elapsed": 4338,
     "status": "ok",
     "timestamp": 1614144959598,
     "user": {
      "displayName": "Yun Seok Choi",
      "photoUrl": "https://lh3.googleusercontent.com/a-/AOh14GhrZsqmpkGUEij82X0R64QM_A1pv0l_06CtOq_j=s64",
      "userId": "05693723351094624326"
     },
     "user_tz": -540
    },
    "id": "qc9-LDX-o96c"
   },
   "outputs": [],
   "source": [
    "USE_CUDA = torch.cuda.is_available()\n",
    "DEVICE = torch.device(\"cuda\" if USE_CUDA else \"cpu\")"
   ]
  },
  {
   "cell_type": "code",
   "execution_count": 4,
   "metadata": {
    "executionInfo": {
     "elapsed": 4334,
     "status": "ok",
     "timestamp": 1614144959599,
     "user": {
      "displayName": "Yun Seok Choi",
      "photoUrl": "https://lh3.googleusercontent.com/a-/AOh14GhrZsqmpkGUEij82X0R64QM_A1pv0l_06CtOq_j=s64",
      "userId": "05693723351094624326"
     },
     "user_tz": -540
    },
    "id": "ZZKwF7vso96d"
   },
   "outputs": [],
   "source": [
    "EPOCHS     = 10\n",
    "BATCH_SIZE = 64"
   ]
  },
  {
   "cell_type": "code",
   "execution_count": 5,
   "metadata": {
    "executionInfo": {
     "elapsed": 4330,
     "status": "ok",
     "timestamp": 1614144959600,
     "user": {
      "displayName": "Yun Seok Choi",
      "photoUrl": "https://lh3.googleusercontent.com/a-/AOh14GhrZsqmpkGUEij82X0R64QM_A1pv0l_06CtOq_j=s64",
      "userId": "05693723351094624326"
     },
     "user_tz": -540
    },
    "id": "aCB21O3eo96d"
   },
   "outputs": [],
   "source": [
    "mnist_transform=transforms.Compose([\n",
    "                       transforms.ToTensor(),\n",
    "                       transforms.Normalize((0.1307,), (0.3081,)) # mean and std\n",
    "                   ])"
   ]
  },
  {
   "cell_type": "code",
   "execution_count": 6,
   "metadata": {
    "colab": {
     "base_uri": "https://localhost:8080/",
     "height": 381,
     "referenced_widgets": [
      "984f8fe9e10446ab8ff652e01a7b14b8",
      "c6d80d75a5d640f6adb4405dfae570a9",
      "a2563029780b42378e899cef63b3e17b",
      "bcaf4a71cc4c4126812e7e06e8fa7d2a",
      "47d8f2dca92348829e1d771571c68c09",
      "dbf7fa669e384e3aaa5bdddd2521afc8",
      "b20d253ee3f1493c89da84cdd24845e1",
      "289a72cbde774c469c9d450f396eec93",
      "2f3f1dc0e8cf4c24a8c4467185e9a253",
      "4b4ad8769f7641a6a523e10de2e56c78",
      "434d71f8319c4d53b90d18e802eb21fb",
      "3aaee353e21a434096a5c7ba7ae073a0",
      "06370ea402b34a4e8c20ebbe1f1eb9cc",
      "5571f84926a74b6884687557cc374a16",
      "b26c8890e9f541dda37d495b210beafb",
      "65ef1513c5c94a4f9ff16c96d047d359",
      "277fdf5b352c4570b435a1d375815381",
      "cc7ccc2687ff4ba29758fd35c0237ce8",
      "5f9fd95f33414e1fb4e3207cb01f9bec",
      "f0c886e61c1d4bab987e5f6cf4fed10d",
      "e2e3d40e202f4f6f919db70b3ff77f06",
      "88e519c4f3ee4f6ba75ba8464fccccbd",
      "ff81f1c02cb643f482f871847e252e6e",
      "1e813d6318d946bc91e74d345b69bd8c",
      "8046f53eec454620b198af38b88dede7",
      "4b90f6f70f224a07ace77b5a38162ae2",
      "c7f17b64732e428da15485fb59264fa5",
      "ec3d449e668a488fb0730d59916d65d4",
      "a8162416d956436dbf5c973d7de95e91",
      "b56ae043dd86488ab049403f6f42d780",
      "aed8fb882fdf41f8a09a1b8749e5b4fe",
      "b972085e759145f380d19427e4aed8a7"
     ]
    },
    "executionInfo": {
     "elapsed": 7342,
     "status": "ok",
     "timestamp": 1614144962628,
     "user": {
      "displayName": "Yun Seok Choi",
      "photoUrl": "https://lh3.googleusercontent.com/a-/AOh14GhrZsqmpkGUEij82X0R64QM_A1pv0l_06CtOq_j=s64",
      "userId": "05693723351094624326"
     },
     "user_tz": -540
    },
    "id": "kf0snaD9B2qB",
    "outputId": "969208f4-d074-4366-f5f6-76460e764728"
   },
   "outputs": [
    {
     "name": "stdout",
     "output_type": "stream",
     "text": [
      "Downloading http://yann.lecun.com/exdb/mnist/train-images-idx3-ubyte.gz to ../data/MNIST/raw/train-images-idx3-ubyte.gz\n"
     ]
    },
    {
     "data": {
      "application/vnd.jupyter.widget-view+json": {
       "model_id": "984f8fe9e10446ab8ff652e01a7b14b8",
       "version_major": 2,
       "version_minor": 0
      },
      "text/plain": [
       "HBox(children=(FloatProgress(value=1.0, bar_style='info', max=1.0), HTML(value='')))"
      ]
     },
     "metadata": {
      "tags": []
     },
     "output_type": "display_data"
    },
    {
     "name": "stdout",
     "output_type": "stream",
     "text": [
      "Extracting ../data/MNIST/raw/train-images-idx3-ubyte.gz to ../data/MNIST/raw\n",
      "Downloading http://yann.lecun.com/exdb/mnist/train-labels-idx1-ubyte.gz to ../data/MNIST/raw/train-labels-idx1-ubyte.gz\n"
     ]
    },
    {
     "data": {
      "application/vnd.jupyter.widget-view+json": {
       "model_id": "2f3f1dc0e8cf4c24a8c4467185e9a253",
       "version_major": 2,
       "version_minor": 0
      },
      "text/plain": [
       "HBox(children=(FloatProgress(value=1.0, bar_style='info', max=1.0), HTML(value='')))"
      ]
     },
     "metadata": {
      "tags": []
     },
     "output_type": "display_data"
    },
    {
     "name": "stdout",
     "output_type": "stream",
     "text": [
      "Extracting ../data/MNIST/raw/train-labels-idx1-ubyte.gz to ../data/MNIST/raw\n",
      "Downloading http://yann.lecun.com/exdb/mnist/t10k-images-idx3-ubyte.gz to ../data/MNIST/raw/t10k-images-idx3-ubyte.gz\n"
     ]
    },
    {
     "data": {
      "application/vnd.jupyter.widget-view+json": {
       "model_id": "277fdf5b352c4570b435a1d375815381",
       "version_major": 2,
       "version_minor": 0
      },
      "text/plain": [
       "HBox(children=(FloatProgress(value=1.0, bar_style='info', max=1.0), HTML(value='')))"
      ]
     },
     "metadata": {
      "tags": []
     },
     "output_type": "display_data"
    },
    {
     "name": "stdout",
     "output_type": "stream",
     "text": [
      "Extracting ../data/MNIST/raw/t10k-images-idx3-ubyte.gz to ../data/MNIST/raw\n",
      "Downloading http://yann.lecun.com/exdb/mnist/t10k-labels-idx1-ubyte.gz to ../data/MNIST/raw/t10k-labels-idx1-ubyte.gz\n"
     ]
    },
    {
     "data": {
      "application/vnd.jupyter.widget-view+json": {
       "model_id": "8046f53eec454620b198af38b88dede7",
       "version_major": 2,
       "version_minor": 0
      },
      "text/plain": [
       "HBox(children=(FloatProgress(value=1.0, bar_style='info', max=1.0), HTML(value='')))"
      ]
     },
     "metadata": {
      "tags": []
     },
     "output_type": "display_data"
    },
    {
     "name": "stdout",
     "output_type": "stream",
     "text": [
      "Extracting ../data/MNIST/raw/t10k-labels-idx1-ubyte.gz to ../data/MNIST/raw\n",
      "Processing...\n",
      "Done!\n"
     ]
    },
    {
     "name": "stderr",
     "output_type": "stream",
     "text": [
      "/usr/local/lib/python3.7/dist-packages/torchvision/datasets/mnist.py:480: UserWarning: The given NumPy array is not writeable, and PyTorch does not support non-writeable tensors. This means you can write to the underlying (supposedly non-writeable) NumPy array using the tensor. You may want to copy the array to protect its data or make it writeable before converting it to a tensor. This type of warning will be suppressed for the rest of this program. (Triggered internally at  /pytorch/torch/csrc/utils/tensor_numpy.cpp:141.)\n",
      "  return torch.from_numpy(parsed.astype(m[2], copy=False)).view(*s)\n"
     ]
    }
   ],
   "source": [
    "trainset = datasets.MNIST(\n",
    "    root      = '../data/', \n",
    "    train     = True,\n",
    "    download  = True,\n",
    "    transform = mnist_transform\n",
    ")\n",
    "testset = datasets.MNIST(\n",
    "    root      = '../data/', \n",
    "    train     = False,\n",
    "    download  = True,\n",
    "    transform = mnist_transform\n",
    ")"
   ]
  },
  {
   "cell_type": "code",
   "execution_count": 7,
   "metadata": {
    "executionInfo": {
     "elapsed": 7327,
     "status": "ok",
     "timestamp": 1614144962630,
     "user": {
      "displayName": "Yun Seok Choi",
      "photoUrl": "https://lh3.googleusercontent.com/a-/AOh14GhrZsqmpkGUEij82X0R64QM_A1pv0l_06CtOq_j=s64",
      "userId": "05693723351094624326"
     },
     "user_tz": -540
    },
    "id": "vLVniRnWB29l"
   },
   "outputs": [],
   "source": [
    "train_loader = data.DataLoader(\n",
    "    dataset     = trainset,\n",
    "    batch_size  = BATCH_SIZE, shuffle=True\n",
    ")\n",
    "test_loader = data.DataLoader(\n",
    "    dataset     = testset,\n",
    "    batch_size  = BATCH_SIZE, shuffle=True\n",
    ")"
   ]
  },
  {
   "cell_type": "code",
   "execution_count": 8,
   "metadata": {
    "executionInfo": {
     "elapsed": 7324,
     "status": "ok",
     "timestamp": 1614144962632,
     "user": {
      "displayName": "Yun Seok Choi",
      "photoUrl": "https://lh3.googleusercontent.com/a-/AOh14GhrZsqmpkGUEij82X0R64QM_A1pv0l_06CtOq_j=s64",
      "userId": "05693723351094624326"
     },
     "user_tz": -540
    },
    "id": "JJ8E_PYyCXrR"
   },
   "outputs": [],
   "source": [
    "CLASSES = {\n",
    "    0: 'zero',\n",
    "    1: 'one',\n",
    "    2: 'two',\n",
    "    3: 'three',\n",
    "    4: 'four',\n",
    "    5: 'five',\n",
    "    6: 'six',\n",
    "    7: 'seven',\n",
    "    8: 'eight',\n",
    "    9: 'nine'\n",
    "}"
   ]
  },
  {
   "cell_type": "code",
   "execution_count": 9,
   "metadata": {
    "colab": {
     "base_uri": "https://localhost:8080/"
    },
    "executionInfo": {
     "elapsed": 7321,
     "status": "ok",
     "timestamp": 1614144962633,
     "user": {
      "displayName": "Yun Seok Choi",
      "photoUrl": "https://lh3.googleusercontent.com/a-/AOh14GhrZsqmpkGUEij82X0R64QM_A1pv0l_06CtOq_j=s64",
      "userId": "05693723351094624326"
     },
     "user_tz": -540
    },
    "id": "Nl8JYGrjC5uH",
    "outputId": "cfa309ec-7a83-454c-a672-89708cb378c4"
   },
   "outputs": [
    {
     "name": "stdout",
     "output_type": "stream",
     "text": [
      "\n",
      "\n"
     ]
    }
   ],
   "source": [
    "dataiter = iter(train_loader)\n",
    "images, labels = next(dataiter)"
   ]
  },
  {
   "cell_type": "code",
   "execution_count": 10,
   "metadata": {
    "colab": {
     "base_uri": "https://localhost:8080/",
     "height": 335
    },
    "executionInfo": {
     "elapsed": 7639,
     "status": "ok",
     "timestamp": 1614144962964,
     "user": {
      "displayName": "Yun Seok Choi",
      "photoUrl": "https://lh3.googleusercontent.com/a-/AOh14GhrZsqmpkGUEij82X0R64QM_A1pv0l_06CtOq_j=s64",
      "userId": "05693723351094624326"
     },
     "user_tz": -540
    },
    "id": "jeV33To8Clrv",
    "outputId": "2eed1a40-5265-4714-bb48-449c670051d8"
   },
   "outputs": [
    {
     "name": "stdout",
     "output_type": "stream",
     "text": [
      "(28, 28)\n"
     ]
    },
    {
     "data": {
      "image/png": "[encoded data removed]",
      "text/plain": [
       "<Figure size 432x288 with 1 Axes>"
      ]
     },
     "metadata": {
      "needs_background": "light",
      "tags": []
     },
     "output_type": "display_data"
    },
    {
     "name": "stdout",
     "output_type": "stream",
     "text": [
      "\n",
      "\n"
     ]
    }
   ],
   "source": [
    "idx = 1\n",
    "\n",
    "item_img = images[idx]\n",
    "item_npimg = item_img.squeeze().numpy()\n",
    "plt.title(CLASSES[labels[idx].item()])\n",
    "print(item_npimg.shape)\n",
    "plt.imshow(item_npimg, cmap='gray')\n",
    "plt.show()"
   ]
  },
  {
   "cell_type": "code",
   "execution_count": 11,
   "metadata": {
    "executionInfo": {
     "elapsed": 7637,
     "status": "ok",
     "timestamp": 1614144962965,
     "user": {
      "displayName": "Yun Seok Choi",
      "photoUrl": "https://lh3.googleusercontent.com/a-/AOh14GhrZsqmpkGUEij82X0R64QM_A1pv0l_06CtOq_j=s64",
      "userId": "05693723351094624326"
     },
     "user_tz": -540
    },
    "id": "oymkIDwqDHot"
   },
   "outputs": [],
   "source": [
    "# class Net(nn.Module):\n",
    "#     def __init__(self):\n",
    "#         super(Net, self).__init__()\n",
    "#         self.fc1 = nn.Linear(784, 256)\n",
    "#         self.fc2 = nn.Linear(256, 128)\n",
    "#         self.fc3 = nn.Linear(128, 10)\n",
    "\n",
    "#     def forward(self, x):\n",
    "#         x = x.view(-1, 784)\n",
    "# #         x = F.relu(self.fc1(x))\n",
    "# #         x = F.relu(self.fc2(x))        \n",
    "#         x = torch.sigmoid(self.fc1(x))\n",
    "#         x = torch.sigmoid(self.fc2(x))\n",
    "#         x = self.fc3(x)\n",
    "#         return x"
   ]
  },
  {
   "cell_type": "code",
   "execution_count": 12,
   "metadata": {
    "executionInfo": {
     "elapsed": 7636,
     "status": "ok",
     "timestamp": 1614144962966,
     "user": {
      "displayName": "Yun Seok Choi",
      "photoUrl": "https://lh3.googleusercontent.com/a-/AOh14GhrZsqmpkGUEij82X0R64QM_A1pv0l_06CtOq_j=s64",
      "userId": "05693723351094624326"
     },
     "user_tz": -540
    },
    "id": "k-m-jSwNo96e"
   },
   "outputs": [],
   "source": [
    "class Net(nn.Module):\n",
    "    def __init__(self):\n",
    "        super(Net, self).__init__()\n",
    "        self.conv1 = nn.Conv2d(1, 10, kernel_size=5)\n",
    "        self.conv2 = nn.Conv2d(10, 20, kernel_size=5)\n",
    "        self.fc1 = nn.Linear(320, 50)\n",
    "        self.fc2 = nn.Linear(50, 10)\n",
    "\n",
    "    def forward(self, x):\n",
    "        # import ipdb\n",
    "        # ipdb.set_trace()\n",
    "        x = self.conv1(x)\n",
    "        x = F.max_pool2d(x, 2)\n",
    "        x = F.relu(x)\n",
    "        x = self.conv2(x)\n",
    "        x = F.max_pool2d(x, 2)\n",
    "        x = F.relu(x)\n",
    "        x = x.view(-1, 320)\n",
    "        x = F.relu(self.fc1(x))\n",
    "        x = self.fc2(x)\n",
    "        return x#F.log_softmax(x, dim=1)"
   ]
  },
  {
   "cell_type": "code",
   "execution_count": 13,
   "metadata": {
    "executionInfo": {
     "elapsed": 17317,
     "status": "ok",
     "timestamp": 1614144972649,
     "user": {
      "displayName": "Yun Seok Choi",
      "photoUrl": "https://lh3.googleusercontent.com/a-/AOh14GhrZsqmpkGUEij82X0R64QM_A1pv0l_06CtOq_j=s64",
      "userId": "05693723351094624326"
     },
     "user_tz": -540
    },
    "id": "gRf3rVY1o96e"
   },
   "outputs": [],
   "source": [
    "model     = Net().to(DEVICE)\n",
    "optimizer = optim.SGD(model.parameters(), lr=0.01, momentum=0.5)"
   ]
  },
  {
   "cell_type": "code",
   "execution_count": 14,
   "metadata": {
    "executionInfo": {
     "elapsed": 17316,
     "status": "ok",
     "timestamp": 1614144972650,
     "user": {
      "displayName": "Yun Seok Choi",
      "photoUrl": "https://lh3.googleusercontent.com/a-/AOh14GhrZsqmpkGUEij82X0R64QM_A1pv0l_06CtOq_j=s64",
      "userId": "05693723351094624326"
     },
     "user_tz": -540
    },
    "id": "FKQycBFoo96f"
   },
   "outputs": [],
   "source": [
    "def train(model, train_loader, optimizer, epoch):\n",
    "    model.train()\n",
    "    for batch_idx, (data, target) in enumerate(train_loader):\n",
    "        data, target = data.to(DEVICE), target.to(DEVICE)\n",
    "        optimizer.zero_grad()\n",
    "        output = model(data)\n",
    "        loss = F.cross_entropy(output, target)\n",
    "        loss.backward()\n",
    "        optimizer.step()\n",
    "\n",
    "        if batch_idx % 200 == 0:\n",
    "            print('Train Epoch: {} [{}/{} ({:.0f}%)]\\tLoss: {:.6f}'.format(\n",
    "                epoch, batch_idx * len(data), len(train_loader.dataset),\n",
    "                100. * batch_idx / len(train_loader), loss.item()))"
   ]
  },
  {
   "cell_type": "code",
   "execution_count": 15,
   "metadata": {
    "executionInfo": {
     "elapsed": 17314,
     "status": "ok",
     "timestamp": 1614144972650,
     "user": {
      "displayName": "Yun Seok Choi",
      "photoUrl": "https://lh3.googleusercontent.com/a-/AOh14GhrZsqmpkGUEij82X0R64QM_A1pv0l_06CtOq_j=s64",
      "userId": "05693723351094624326"
     },
     "user_tz": -540
    },
    "id": "-DXFZ8Eio96f"
   },
   "outputs": [],
   "source": [
    "def evaluate(model, test_loader):\n",
    "    model.eval()\n",
    "    test_loss = 0\n",
    "    correct = 0\n",
    "    with torch.no_grad():\n",
    "        for data, target in test_loader:\n",
    "            data, target = data.to(DEVICE), target.to(DEVICE)\n",
    "            output = model(data)\n",
    "\n",
    "            # 배치 오차를 합산\n",
    "            test_loss += F.cross_entropy(output, target,\n",
    "                                         reduction='sum').item()\n",
    "\n",
    "            # 가장 높은 값을 가진 인덱스가 바로 예측값\n",
    "            pred = output.max(1, keepdim=True)[1]\n",
    "            correct += pred.eq(target.view_as(pred)).sum().item()\n",
    "\n",
    "    test_loss /= len(test_loader.dataset)\n",
    "    test_accuracy = 100. * correct / len(test_loader.dataset)\n",
    "    return test_loss, test_accuracy"
   ]
  },
  {
   "cell_type": "code",
   "execution_count": 16,
   "metadata": {
    "colab": {
     "base_uri": "https://localhost:8080/"
    },
    "executionInfo": {
     "elapsed": 135619,
     "status": "ok",
     "timestamp": 1614145090961,
     "user": {
      "displayName": "Yun Seok Choi",
      "photoUrl": "https://lh3.googleusercontent.com/a-/AOh14GhrZsqmpkGUEij82X0R64QM_A1pv0l_06CtOq_j=s64",
      "userId": "05693723351094624326"
     },
     "user_tz": -540
    },
    "id": "5htBVrsdo96g",
    "outputId": "864d76d9-f989-4bdb-b6ed-d1dc510887d8"
   },
   "outputs": [
    {
     "name": "stdout",
     "output_type": "stream",
     "text": [
      "Train Epoch: 1 [0/60000 (0%)]\tLoss: 2.304410\n",
      "Train Epoch: 1 [12800/60000 (21%)]\tLoss: 0.480093\n",
      "Train Epoch: 1 [25600/60000 (43%)]\tLoss: 0.224313\n",
      "Train Epoch: 1 [38400/60000 (64%)]\tLoss: 0.180894\n",
      "Train Epoch: 1 [51200/60000 (85%)]\tLoss: 0.131478\n",
      "[1] Test Loss: 0.1187, Accuracy: 96.61%\n",
      "Train Epoch: 2 [0/60000 (0%)]\tLoss: 0.093142\n",
      "Train Epoch: 2 [12800/60000 (21%)]\tLoss: 0.088932\n",
      "Train Epoch: 2 [25600/60000 (43%)]\tLoss: 0.089263\n",
      "Train Epoch: 2 [38400/60000 (64%)]\tLoss: 0.023216\n",
      "Train Epoch: 2 [51200/60000 (85%)]\tLoss: 0.115041\n",
      "[2] Test Loss: 0.0792, Accuracy: 97.77%\n",
      "Train Epoch: 3 [0/60000 (0%)]\tLoss: 0.130573\n",
      "Train Epoch: 3 [12800/60000 (21%)]\tLoss: 0.106396\n",
      "Train Epoch: 3 [25600/60000 (43%)]\tLoss: 0.082532\n",
      "Train Epoch: 3 [38400/60000 (64%)]\tLoss: 0.019241\n",
      "Train Epoch: 3 [51200/60000 (85%)]\tLoss: 0.179485\n",
      "[3] Test Loss: 0.0622, Accuracy: 97.97%\n",
      "Train Epoch: 4 [0/60000 (0%)]\tLoss: 0.007374\n",
      "Train Epoch: 4 [12800/60000 (21%)]\tLoss: 0.025358\n",
      "Train Epoch: 4 [25600/60000 (43%)]\tLoss: 0.079630\n",
      "Train Epoch: 4 [38400/60000 (64%)]\tLoss: 0.061705\n",
      "Train Epoch: 4 [51200/60000 (85%)]\tLoss: 0.109641\n",
      "[4] Test Loss: 0.0580, Accuracy: 98.31%\n",
      "Train Epoch: 5 [0/60000 (0%)]\tLoss: 0.074457\n",
      "Train Epoch: 5 [12800/60000 (21%)]\tLoss: 0.004340\n",
      "Train Epoch: 5 [25600/60000 (43%)]\tLoss: 0.069133\n",
      "Train Epoch: 5 [38400/60000 (64%)]\tLoss: 0.137152\n",
      "Train Epoch: 5 [51200/60000 (85%)]\tLoss: 0.028289\n",
      "[5] Test Loss: 0.0559, Accuracy: 98.24%\n",
      "Train Epoch: 6 [0/60000 (0%)]\tLoss: 0.046031\n",
      "Train Epoch: 6 [12800/60000 (21%)]\tLoss: 0.047936\n",
      "Train Epoch: 6 [25600/60000 (43%)]\tLoss: 0.018198\n",
      "Train Epoch: 6 [38400/60000 (64%)]\tLoss: 0.032397\n",
      "Train Epoch: 6 [51200/60000 (85%)]\tLoss: 0.042159\n",
      "[6] Test Loss: 0.0409, Accuracy: 98.78%\n",
      "Train Epoch: 7 [0/60000 (0%)]\tLoss: 0.028529\n",
      "Train Epoch: 7 [12800/60000 (21%)]\tLoss: 0.078437\n",
      "Train Epoch: 7 [25600/60000 (43%)]\tLoss: 0.021316\n",
      "Train Epoch: 7 [38400/60000 (64%)]\tLoss: 0.043560\n",
      "Train Epoch: 7 [51200/60000 (85%)]\tLoss: 0.050694\n",
      "[7] Test Loss: 0.0430, Accuracy: 98.69%\n",
      "Train Epoch: 8 [0/60000 (0%)]\tLoss: 0.036022\n",
      "Train Epoch: 8 [12800/60000 (21%)]\tLoss: 0.067299\n",
      "Train Epoch: 8 [25600/60000 (43%)]\tLoss: 0.011434\n",
      "Train Epoch: 8 [38400/60000 (64%)]\tLoss: 0.005918\n",
      "Train Epoch: 8 [51200/60000 (85%)]\tLoss: 0.009236\n",
      "[8] Test Loss: 0.0348, Accuracy: 98.92%\n",
      "Train Epoch: 9 [0/60000 (0%)]\tLoss: 0.037693\n",
      "Train Epoch: 9 [12800/60000 (21%)]\tLoss: 0.029342\n",
      "Train Epoch: 9 [25600/60000 (43%)]\tLoss: 0.007199\n",
      "Train Epoch: 9 [38400/60000 (64%)]\tLoss: 0.008187\n",
      "Train Epoch: 9 [51200/60000 (85%)]\tLoss: 0.010801\n",
      "[9] Test Loss: 0.0383, Accuracy: 98.76%\n",
      "Train Epoch: 10 [0/60000 (0%)]\tLoss: 0.010884\n",
      "Train Epoch: 10 [12800/60000 (21%)]\tLoss: 0.097796\n",
      "Train Epoch: 10 [25600/60000 (43%)]\tLoss: 0.007082\n",
      "Train Epoch: 10 [38400/60000 (64%)]\tLoss: 0.009020\n",
      "Train Epoch: 10 [51200/60000 (85%)]\tLoss: 0.012228\n",
      "[10] Test Loss: 0.0389, Accuracy: 98.77%\n"
     ]
    }
   ],
   "source": [
    "for epoch in range(1, EPOCHS + 1):\n",
    "    train(model, train_loader, optimizer, epoch)\n",
    "    test_loss, test_accuracy = evaluate(model, test_loader)\n",
    "    \n",
    "    print('[{}] Test Loss: {:.4f}, Accuracy: {:.2f}%'.format(\n",
    "          epoch, test_loss, test_accuracy))"
   ]
  },
  {
   "cell_type": "code",
   "execution_count": 17,
   "metadata": {
    "colab": {
     "base_uri": "https://localhost:8080/",
     "height": 591
    },
    "executionInfo": {
     "elapsed": 137255,
     "status": "ok",
     "timestamp": 1614145092603,
     "user": {
      "displayName": "Yun Seok Choi",
      "photoUrl": "https://lh3.googleusercontent.com/a-/AOh14GhrZsqmpkGUEij82X0R64QM_A1pv0l_06CtOq_j=s64",
      "userId": "05693723351094624326"
     },
     "user_tz": -540
    },
    "id": "60RG6pfuo96h",
    "outputId": "cf088cb3-23d1-42b2-ddda-e96aa508b84a"
   },
   "outputs": [
    {
     "data": {
      "image/png": "[encoded data removed]",
      "text/plain": [
       "<Figure size 720x720 with 36 Axes>"
      ]
     },
     "metadata": {
      "needs_background": "light",
      "tags": []
     },
     "output_type": "display_data"
    }
   ],
   "source": [
    "columns = 6\n",
    "rows = 6\n",
    "fig = plt.figure(figsize=(10,10))\n",
    " \n",
    "model.eval()\n",
    "for i in range(1, columns*rows+1):\n",
    "    data_idx = np.random.randint(len(testset))\n",
    "    input_img = testset[data_idx][0].unsqueeze(dim=0).to(DEVICE) \n",
    " \n",
    "    output = model(input_img)\n",
    "    _, argmax = torch.max(output, 1)\n",
    "    pred = CLASSES[argmax.item()]\n",
    "    label = CLASSES[testset[data_idx][1]]\n",
    "    \n",
    "    fig.add_subplot(rows, columns, i)\n",
    "    if pred == label:\n",
    "        plt.title(pred + ', right')\n",
    "        cmap = 'Blues'\n",
    "    else:\n",
    "        plt.title('N ' + pred + ' B ' +  label)\n",
    "        cmap = 'Reds'\n",
    "    plot_img = testset[data_idx][0][0,:,:]\n",
    "    plt.imshow(plot_img, cmap=cmap)\n",
    "    plt.axis('off')\n",
    "    \n",
    "plt.show() "
   ]
  },
  {
   "cell_type": "markdown",
   "metadata": {
    "id": "pDoFUCzFEFE9"
   },
   "source": [
    "## CNN의 channel, kernel size, stride, padding 을 변경해보자!"
   ]
  },
  {
   "cell_type": "markdown",
   "metadata": {
    "id": "WtHn0LJ7Wm5W"
   },
   "source": [
    "## Convolution Dropout을 추가하여 성능을 비교해보자!"
   ]
  },
  {
   "cell_type": "code",
   "execution_count": 18,
   "metadata": {
    "executionInfo": {
     "elapsed": 137254,
     "status": "ok",
     "timestamp": 1614145092605,
     "user": {
      "displayName": "Yun Seok Choi",
      "photoUrl": "https://lh3.googleusercontent.com/a-/AOh14GhrZsqmpkGUEij82X0R64QM_A1pv0l_06CtOq_j=s64",
      "userId": "05693723351094624326"
     },
     "user_tz": -540
    },
    "id": "zKsgrFWkWtPq"
   },
   "outputs": [],
   "source": [
    "class Net(nn.Module):\n",
    "    def __init__(self):\n",
    "        super(Net, self).__init__()\n",
    "        self.conv1 = nn.Conv2d(1, 10, kernel_size=5)\n",
    "        self.conv2 = nn.Conv2d(10, 20, kernel_size=5)\n",
    "        self.conv2_drop = nn.Dropout2d(p=0.2) ## convolution Dropout\n",
    "        self.fc1 = nn.Linear(320, 50)\n",
    "        self.fc2 = nn.Linear(50, 10)\n",
    "\n",
    "    def forward(self, x):\n",
    "        # import ipdb\n",
    "        # ipdb.set_trace()\n",
    "        x = self.conv1(x)\n",
    "        x = F.max_pool2d(x, 2)\n",
    "        x = F.relu(x)\n",
    "        x = self.conv2(x)\n",
    "        x = F.max_pool2d(x, 2)\n",
    "        x = F.relu(x)\n",
    "        x = F.dropout(x, training=self.training)\n",
    "        x = x.view(-1, 320)\n",
    "        x = F.relu(self.fc1(x))\n",
    "        x = self.fc2(x)\n",
    "        return F.log_softmax(x, dim=1)"
   ]
  },
  {
   "cell_type": "markdown",
   "metadata": {
    "id": "fn1-Yy_xW8Sq"
   },
   "source": []
  }
 ],
 "metadata": {
  "accelerator": "GPU",
  "colab": {
   "collapsed_sections": [],
   "name": "4_1_CNN_MNIST.ipynb",
   "provenance": []
  },
  "kernelspec": {
   "display_name": "Python 3",
   "language": "python",
   "name": "python3"
  },
  "language_info": {
   "codemirror_mode": {
    "name": "ipython",
    "version": 3
   },
   "file_extension": ".py",
   "mimetype": "text/x-python",
   "name": "python",
   "nbconvert_exporter": "python",
   "pygments_lexer": "ipython3",
   "version": "3.8.5"
  },
  "widgets": {
   "application/vnd.jupyter.widget-state+json": {
    "06370ea402b34a4e8c20ebbe1f1eb9cc": {
     "model_module": "@jupyter-widgets/controls",
     "model_name": "ProgressStyleModel",
     "state": {
      "_model_module": "@jupyter-widgets/controls",
      "_model_module_version": "1.5.0",
      "_model_name": "ProgressStyleModel",
      "_view_count": null,
      "_view_module": "@jupyter-widgets/base",
      "_view_module_version": "1.2.0",
      "_view_name": "StyleView",
      "bar_color": null,
      "description_width": "initial"
     }
    },
    "1e813d6318d946bc91e74d345b69bd8c": {
     "model_module": "@jupyter-widgets/base",
     "model_name": "LayoutModel",
     "state": {
      "_model_module": "@jupyter-widgets/base",
      "_model_module_version": "1.2.0",
      "_model_name": "LayoutModel",
      "_view_count": null,
      "_view_module": "@jupyter-widgets/base",
      "_view_module_version": "1.2.0",
      "_view_name": "LayoutView",
      "align_content": null,
      "align_items": null,
      "align_self": null,
      "border": null,
      "bottom": null,
      "display": null,
      "flex": null,
      "flex_flow": null,
      "grid_area": null,
      "grid_auto_columns": null,
      "grid_auto_flow": null,
      "grid_auto_rows": null,
      "grid_column": null,
      "grid_gap": null,
      "grid_row": null,
      "grid_template_areas": null,
      "grid_template_columns": null,
      "grid_template_rows": null,
      "height": null,
      "justify_content": null,
      "justify_items": null,
      "left": null,
      "margin": null,
      "max_height": null,
      "max_width": null,
      "min_height": null,
      "min_width": null,
      "object_fit": null,
      "object_position": null,
      "order": null,
      "overflow": null,
      "overflow_x": null,
      "overflow_y": null,
      "padding": null,
      "right": null,
      "top": null,
      "visibility": null,
      "width": null
     }
    },
    "277fdf5b352c4570b435a1d375815381": {
     "model_module": "@jupyter-widgets/controls",
     "model_name": "HBoxModel",
     "state": {
      "_dom_classes": [],
      "_model_module": "@jupyter-widgets/controls",
      "_model_module_version": "1.5.0",
      "_model_name": "HBoxModel",
      "_view_count": null,
      "_view_module": "@jupyter-widgets/controls",
      "_view_module_version": "1.5.0",
      "_view_name": "HBoxView",
      "box_style": "",
      "children": [
       "IPY_MODEL_5f9fd95f33414e1fb4e3207cb01f9bec",
       "IPY_MODEL_f0c886e61c1d4bab987e5f6cf4fed10d"
      ],
      "layout": "IPY_MODEL_cc7ccc2687ff4ba29758fd35c0237ce8"
     }
    },
    "289a72cbde774c469c9d450f396eec93": {
     "model_module": "@jupyter-widgets/base",
     "model_name": "LayoutModel",
     "state": {
      "_model_module": "@jupyter-widgets/base",
      "_model_module_version": "1.2.0",
      "_model_name": "LayoutModel",
      "_view_count": null,
      "_view_module": "@jupyter-widgets/base",
      "_view_module_version": "1.2.0",
      "_view_name": "LayoutView",
      "align_content": null,
      "align_items": null,
      "align_self": null,
      "border": null,
      "bottom": null,
      "display": null,
      "flex": null,
      "flex_flow": null,
      "grid_area": null,
      "grid_auto_columns": null,
      "grid_auto_flow": null,
      "grid_auto_rows": null,
      "grid_column": null,
      "grid_gap": null,
      "grid_row": null,
      "grid_template_areas": null,
      "grid_template_columns": null,
      "grid_template_rows": null,
      "height": null,
      "justify_content": null,
      "justify_items": null,
      "left": null,
      "margin": null,
      "max_height": null,
      "max_width": null,
      "min_height": null,
      "min_width": null,
      "object_fit": null,
      "object_position": null,
      "order": null,
      "overflow": null,
      "overflow_x": null,
      "overflow_y": null,
      "padding": null,
      "right": null,
      "top": null,
      "visibility": null,
      "width": null
     }
    },
    "2f3f1dc0e8cf4c24a8c4467185e9a253": {
     "model_module": "@jupyter-widgets/controls",
     "model_name": "HBoxModel",
     "state": {
      "_dom_classes": [],
      "_model_module": "@jupyter-widgets/controls",
      "_model_module_version": "1.5.0",
      "_model_name": "HBoxModel",
      "_view_count": null,
      "_view_module": "@jupyter-widgets/controls",
      "_view_module_version": "1.5.0",
      "_view_name": "HBoxView",
      "box_style": "",
      "children": [
       "IPY_MODEL_434d71f8319c4d53b90d18e802eb21fb",
       "IPY_MODEL_3aaee353e21a434096a5c7ba7ae073a0"
      ],
      "layout": "IPY_MODEL_4b4ad8769f7641a6a523e10de2e56c78"
     }
    },
    "3aaee353e21a434096a5c7ba7ae073a0": {
     "model_module": "@jupyter-widgets/controls",
     "model_name": "HTMLModel",
     "state": {
      "_dom_classes": [],
      "_model_module": "@jupyter-widgets/controls",
      "_model_module_version": "1.5.0",
      "_model_name": "HTMLModel",
      "_view_count": null,
      "_view_module": "@jupyter-widgets/controls",
      "_view_module_version": "1.5.0",
      "_view_name": "HTMLView",
      "description": "",
      "description_tooltip": null,
      "layout": "IPY_MODEL_65ef1513c5c94a4f9ff16c96d047d359",
      "placeholder": "​",
      "style": "IPY_MODEL_b26c8890e9f541dda37d495b210beafb",
      "value": " 32768/? [00:01&lt;00:00, 18115.93it/s]"
     }
    },
    "434d71f8319c4d53b90d18e802eb21fb": {
     "model_module": "@jupyter-widgets/controls",
     "model_name": "FloatProgressModel",
     "state": {
      "_dom_classes": [],
      "_model_module": "@jupyter-widgets/controls",
      "_model_module_version": "1.5.0",
      "_model_name": "FloatProgressModel",
      "_view_count": null,
      "_view_module": "@jupyter-widgets/controls",
      "_view_module_version": "1.5.0",
      "_view_name": "ProgressView",
      "bar_style": "success",
      "description": "",
      "description_tooltip": null,
      "layout": "IPY_MODEL_5571f84926a74b6884687557cc374a16",
      "max": 1,
      "min": 0,
      "orientation": "horizontal",
      "style": "IPY_MODEL_06370ea402b34a4e8c20ebbe1f1eb9cc",
      "value": 1
     }
    },
    "47d8f2dca92348829e1d771571c68c09": {
     "model_module": "@jupyter-widgets/controls",
     "model_name": "ProgressStyleModel",
     "state": {
      "_model_module": "@jupyter-widgets/controls",
      "_model_module_version": "1.5.0",
      "_model_name": "ProgressStyleModel",
      "_view_count": null,
      "_view_module": "@jupyter-widgets/base",
      "_view_module_version": "1.2.0",
      "_view_name": "StyleView",
      "bar_color": null,
      "description_width": "initial"
     }
    },
    "4b4ad8769f7641a6a523e10de2e56c78": {
     "model_module": "@jupyter-widgets/base",
     "model_name": "LayoutModel",
     "state": {
      "_model_module": "@jupyter-widgets/base",
      "_model_module_version": "1.2.0",
      "_model_name": "LayoutModel",
      "_view_count": null,
      "_view_module": "@jupyter-widgets/base",
      "_view_module_version": "1.2.0",
      "_view_name": "LayoutView",
      "align_content": null,
      "align_items": null,
      "align_self": null,
      "border": null,
      "bottom": null,
      "display": null,
      "flex": null,
      "flex_flow": null,
      "grid_area": null,
      "grid_auto_columns": null,
      "grid_auto_flow": null,
      "grid_auto_rows": null,
      "grid_column": null,
      "grid_gap": null,
      "grid_row": null,
      "grid_template_areas": null,
      "grid_template_columns": null,
      "grid_template_rows": null,
      "height": null,
      "justify_content": null,
      "justify_items": null,
      "left": null,
      "margin": null,
      "max_height": null,
      "max_width": null,
      "min_height": null,
      "min_width": null,
      "object_fit": null,
      "object_position": null,
      "order": null,
      "overflow": null,
      "overflow_x": null,
      "overflow_y": null,
      "padding": null,
      "right": null,
      "top": null,
      "visibility": null,
      "width": null
     }
    },
    "4b90f6f70f224a07ace77b5a38162ae2": {
     "model_module": "@jupyter-widgets/base",
     "model_name": "LayoutModel",
     "state": {
      "_model_module": "@jupyter-widgets/base",
      "_model_module_version": "1.2.0",
      "_model_name": "LayoutModel",
      "_view_count": null,
      "_view_module": "@jupyter-widgets/base",
      "_view_module_version": "1.2.0",
      "_view_name": "LayoutView",
      "align_content": null,
      "align_items": null,
      "align_self": null,
      "border": null,
      "bottom": null,
      "display": null,
      "flex": null,
      "flex_flow": null,
      "grid_area": null,
      "grid_auto_columns": null,
      "grid_auto_flow": null,
      "grid_auto_rows": null,
      "grid_column": null,
      "grid_gap": null,
      "grid_row": null,
      "grid_template_areas": null,
      "grid_template_columns": null,
      "grid_template_rows": null,
      "height": null,
      "justify_content": null,
      "justify_items": null,
      "left": null,
      "margin": null,
      "max_height": null,
      "max_width": null,
      "min_height": null,
      "min_width": null,
      "object_fit": null,
      "object_position": null,
      "order": null,
      "overflow": null,
      "overflow_x": null,
      "overflow_y": null,
      "padding": null,
      "right": null,
      "top": null,
      "visibility": null,
      "width": null
     }
    },
    "5571f84926a74b6884687557cc374a16": {
     "model_module": "@jupyter-widgets/base",
     "model_name": "LayoutModel",
     "state": {
      "_model_module": "@jupyter-widgets/base",
      "_model_module_version": "1.2.0",
      "_model_name": "LayoutModel",
      "_view_count": null,
      "_view_module": "@jupyter-widgets/base",
      "_view_module_version": "1.2.0",
      "_view_name": "LayoutView",
      "align_content": null,
      "align_items": null,
      "align_self": null,
      "border": null,
      "bottom": null,
      "display": null,
      "flex": null,
      "flex_flow": null,
      "grid_area": null,
      "grid_auto_columns": null,
      "grid_auto_flow": null,
      "grid_auto_rows": null,
      "grid_column": null,
      "grid_gap": null,
      "grid_row": null,
      "grid_template_areas": null,
      "grid_template_columns": null,
      "grid_template_rows": null,
      "height": null,
      "justify_content": null,
      "justify_items": null,
      "left": null,
      "margin": null,
      "max_height": null,
      "max_width": null,
      "min_height": null,
      "min_width": null,
      "object_fit": null,
      "object_position": null,
      "order": null,
      "overflow": null,
      "overflow_x": null,
      "overflow_y": null,
      "padding": null,
      "right": null,
      "top": null,
      "visibility": null,
      "width": null
     }
    },
    "5f9fd95f33414e1fb4e3207cb01f9bec": {
     "model_module": "@jupyter-widgets/controls",
     "model_name": "FloatProgressModel",
     "state": {
      "_dom_classes": [],
      "_model_module": "@jupyter-widgets/controls",
      "_model_module_version": "1.5.0",
      "_model_name": "FloatProgressModel",
      "_view_count": null,
      "_view_module": "@jupyter-widgets/controls",
      "_view_module_version": "1.5.0",
      "_view_name": "ProgressView",
      "bar_style": "success",
      "description": "",
      "description_tooltip": null,
      "layout": "IPY_MODEL_88e519c4f3ee4f6ba75ba8464fccccbd",
      "max": 1,
      "min": 0,
      "orientation": "horizontal",
      "style": "IPY_MODEL_e2e3d40e202f4f6f919db70b3ff77f06",
      "value": 1
     }
    },
    "65ef1513c5c94a4f9ff16c96d047d359": {
     "model_module": "@jupyter-widgets/base",
     "model_name": "LayoutModel",
     "state": {
      "_model_module": "@jupyter-widgets/base",
      "_model_module_version": "1.2.0",
      "_model_name": "LayoutModel",
      "_view_count": null,
      "_view_module": "@jupyter-widgets/base",
      "_view_module_version": "1.2.0",
      "_view_name": "LayoutView",
      "align_content": null,
      "align_items": null,
      "align_self": null,
      "border": null,
      "bottom": null,
      "display": null,
      "flex": null,
      "flex_flow": null,
      "grid_area": null,
      "grid_auto_columns": null,
      "grid_auto_flow": null,
      "grid_auto_rows": null,
      "grid_column": null,
      "grid_gap": null,
      "grid_row": null,
      "grid_template_areas": null,
      "grid_template_columns": null,
      "grid_template_rows": null,
      "height": null,
      "justify_content": null,
      "justify_items": null,
      "left": null,
      "margin": null,
      "max_height": null,
      "max_width": null,
      "min_height": null,
      "min_width": null,
      "object_fit": null,
      "object_position": null,
      "order": null,
      "overflow": null,
      "overflow_x": null,
      "overflow_y": null,
      "padding": null,
      "right": null,
      "top": null,
      "visibility": null,
      "width": null
     }
    },
    "8046f53eec454620b198af38b88dede7": {
     "model_module": "@jupyter-widgets/controls",
     "model_name": "HBoxModel",
     "state": {
      "_dom_classes": [],
      "_model_module": "@jupyter-widgets/controls",
      "_model_module_version": "1.5.0",
      "_model_name": "HBoxModel",
      "_view_count": null,
      "_view_module": "@jupyter-widgets/controls",
      "_view_module_version": "1.5.0",
      "_view_name": "HBoxView",
      "box_style": "",
      "children": [
       "IPY_MODEL_c7f17b64732e428da15485fb59264fa5",
       "IPY_MODEL_ec3d449e668a488fb0730d59916d65d4"
      ],
      "layout": "IPY_MODEL_4b90f6f70f224a07ace77b5a38162ae2"
     }
    },
    "88e519c4f3ee4f6ba75ba8464fccccbd": {
     "model_module": "@jupyter-widgets/base",
     "model_name": "LayoutModel",
     "state": {
      "_model_module": "@jupyter-widgets/base",
      "_model_module_version": "1.2.0",
      "_model_name": "LayoutModel",
      "_view_count": null,
      "_view_module": "@jupyter-widgets/base",
      "_view_module_version": "1.2.0",
      "_view_name": "LayoutView",
      "align_content": null,
      "align_items": null,
      "align_self": null,
      "border": null,
      "bottom": null,
      "display": null,
      "flex": null,
      "flex_flow": null,
      "grid_area": null,
      "grid_auto_columns": null,
      "grid_auto_flow": null,
      "grid_auto_rows": null,
      "grid_column": null,
      "grid_gap": null,
      "grid_row": null,
      "grid_template_areas": null,
      "grid_template_columns": null,
      "grid_template_rows": null,
      "height": null,
      "justify_content": null,
      "justify_items": null,
      "left": null,
      "margin": null,
      "max_height": null,
      "max_width": null,
      "min_height": null,
      "min_width": null,
      "object_fit": null,
      "object_position": null,
      "order": null,
      "overflow": null,
      "overflow_x": null,
      "overflow_y": null,
      "padding": null,
      "right": null,
      "top": null,
      "visibility": null,
      "width": null
     }
    },
    "984f8fe9e10446ab8ff652e01a7b14b8": {
     "model_module": "@jupyter-widgets/controls",
     "model_name": "HBoxModel",
     "state": {
      "_dom_classes": [],
      "_model_module": "@jupyter-widgets/controls",
      "_model_module_version": "1.5.0",
      "_model_name": "HBoxModel",
      "_view_count": null,
      "_view_module": "@jupyter-widgets/controls",
      "_view_module_version": "1.5.0",
      "_view_name": "HBoxView",
      "box_style": "",
      "children": [
       "IPY_MODEL_a2563029780b42378e899cef63b3e17b",
       "IPY_MODEL_bcaf4a71cc4c4126812e7e06e8fa7d2a"
      ],
      "layout": "IPY_MODEL_c6d80d75a5d640f6adb4405dfae570a9"
     }
    },
    "a2563029780b42378e899cef63b3e17b": {
     "model_module": "@jupyter-widgets/controls",
     "model_name": "FloatProgressModel",
     "state": {
      "_dom_classes": [],
      "_model_module": "@jupyter-widgets/controls",
      "_model_module_version": "1.5.0",
      "_model_name": "FloatProgressModel",
      "_view_count": null,
      "_view_module": "@jupyter-widgets/controls",
      "_view_module_version": "1.5.0",
      "_view_name": "ProgressView",
      "bar_style": "success",
      "description": "",
      "description_tooltip": null,
      "layout": "IPY_MODEL_dbf7fa669e384e3aaa5bdddd2521afc8",
      "max": 1,
      "min": 0,
      "orientation": "horizontal",
      "style": "IPY_MODEL_47d8f2dca92348829e1d771571c68c09",
      "value": 1
     }
    },
    "a8162416d956436dbf5c973d7de95e91": {
     "model_module": "@jupyter-widgets/controls",
     "model_name": "ProgressStyleModel",
     "state": {
      "_model_module": "@jupyter-widgets/controls",
      "_model_module_version": "1.5.0",
      "_model_name": "ProgressStyleModel",
      "_view_count": null,
      "_view_module": "@jupyter-widgets/base",
      "_view_module_version": "1.2.0",
      "_view_name": "StyleView",
      "bar_color": null,
      "description_width": "initial"
     }
    },
    "aed8fb882fdf41f8a09a1b8749e5b4fe": {
     "model_module": "@jupyter-widgets/controls",
     "model_name": "DescriptionStyleModel",
     "state": {
      "_model_module": "@jupyter-widgets/controls",
      "_model_module_version": "1.5.0",
      "_model_name": "DescriptionStyleModel",
      "_view_count": null,
      "_view_module": "@jupyter-widgets/base",
      "_view_module_version": "1.2.0",
      "_view_name": "StyleView",
      "description_width": ""
     }
    },
    "b20d253ee3f1493c89da84cdd24845e1": {
     "model_module": "@jupyter-widgets/controls",
     "model_name": "DescriptionStyleModel",
     "state": {
      "_model_module": "@jupyter-widgets/controls",
      "_model_module_version": "1.5.0",
      "_model_name": "DescriptionStyleModel",
      "_view_count": null,
      "_view_module": "@jupyter-widgets/base",
      "_view_module_version": "1.2.0",
      "_view_name": "StyleView",
      "description_width": ""
     }
    },
    "b26c8890e9f541dda37d495b210beafb": {
     "model_module": "@jupyter-widgets/controls",
     "model_name": "DescriptionStyleModel",
     "state": {
      "_model_module": "@jupyter-widgets/controls",
      "_model_module_version": "1.5.0",
      "_model_name": "DescriptionStyleModel",
      "_view_count": null,
      "_view_module": "@jupyter-widgets/base",
      "_view_module_version": "1.2.0",
      "_view_name": "StyleView",
      "description_width": ""
     }
    },
    "b56ae043dd86488ab049403f6f42d780": {
     "model_module": "@jupyter-widgets/base",
     "model_name": "LayoutModel",
     "state": {
      "_model_module": "@jupyter-widgets/base",
      "_model_module_version": "1.2.0",
      "_model_name": "LayoutModel",
      "_view_count": null,
      "_view_module": "@jupyter-widgets/base",
      "_view_module_version": "1.2.0",
      "_view_name": "LayoutView",
      "align_content": null,
      "align_items": null,
      "align_self": null,
      "border": null,
      "bottom": null,
      "display": null,
      "flex": null,
      "flex_flow": null,
      "grid_area": null,
      "grid_auto_columns": null,
      "grid_auto_flow": null,
      "grid_auto_rows": null,
      "grid_column": null,
      "grid_gap": null,
      "grid_row": null,
      "grid_template_areas": null,
      "grid_template_columns": null,
      "grid_template_rows": null,
      "height": null,
      "justify_content": null,
      "justify_items": null,
      "left": null,
      "margin": null,
      "max_height": null,
      "max_width": null,
      "min_height": null,
      "min_width": null,
      "object_fit": null,
      "object_position": null,
      "order": null,
      "overflow": null,
      "overflow_x": null,
      "overflow_y": null,
      "padding": null,
      "right": null,
      "top": null,
      "visibility": null,
      "width": null
     }
    },
    "b972085e759145f380d19427e4aed8a7": {
     "model_module": "@jupyter-widgets/base",
     "model_name": "LayoutModel",
     "state": {
      "_model_module": "@jupyter-widgets/base",
      "_model_module_version": "1.2.0",
      "_model_name": "LayoutModel",
      "_view_count": null,
      "_view_module": "@jupyter-widgets/base",
      "_view_module_version": "1.2.0",
      "_view_name": "LayoutView",
      "align_content": null,
      "align_items": null,
      "align_self": null,
      "border": null,
      "bottom": null,
      "display": null,
      "flex": null,
      "flex_flow": null,
      "grid_area": null,
      "grid_auto_columns": null,
      "grid_auto_flow": null,
      "grid_auto_rows": null,
      "grid_column": null,
      "grid_gap": null,
      "grid_row": null,
      "grid_template_areas": null,
      "grid_template_columns": null,
      "grid_template_rows": null,
      "height": null,
      "justify_content": null,
      "justify_items": null,
      "left": null,
      "margin": null,
      "max_height": null,
      "max_width": null,
      "min_height": null,
      "min_width": null,
      "object_fit": null,
      "object_position": null,
      "order": null,
      "overflow": null,
      "overflow_x": null,
      "overflow_y": null,
      "padding": null,
      "right": null,
      "top": null,
      "visibility": null,
      "width": null
     }
    },
    "bcaf4a71cc4c4126812e7e06e8fa7d2a": {
     "model_module": "@jupyter-widgets/controls",
     "model_name": "HTMLModel",
     "state": {
      "_dom_classes": [],
      "_model_module": "@jupyter-widgets/controls",
      "_model_module_version": "1.5.0",
      "_model_name": "HTMLModel",
      "_view_count": null,
      "_view_module": "@jupyter-widgets/controls",
      "_view_module_version": "1.5.0",
      "_view_name": "HTMLView",
      "description": "",
      "description_tooltip": null,
      "layout": "IPY_MODEL_289a72cbde774c469c9d450f396eec93",
      "placeholder": "​",
      "style": "IPY_MODEL_b20d253ee3f1493c89da84cdd24845e1",
      "value": " 9920512/? [00:03&lt;00:00, 3015048.65it/s]"
     }
    },
    "c6d80d75a5d640f6adb4405dfae570a9": {
     "model_module": "@jupyter-widgets/base",
     "model_name": "LayoutModel",
     "state": {
      "_model_module": "@jupyter-widgets/base",
      "_model_module_version": "1.2.0",
      "_model_name": "LayoutModel",
      "_view_count": null,
      "_view_module": "@jupyter-widgets/base",
      "_view_module_version": "1.2.0",
      "_view_name": "LayoutView",
      "align_content": null,
      "align_items": null,
      "align_self": null,
      "border": null,
      "bottom": null,
      "display": null,
      "flex": null,
      "flex_flow": null,
      "grid_area": null,
      "grid_auto_columns": null,
      "grid_auto_flow": null,
      "grid_auto_rows": null,
      "grid_column": null,
      "grid_gap": null,
      "grid_row": null,
      "grid_template_areas": null,
      "grid_template_columns": null,
      "grid_template_rows": null,
      "height": null,
      "justify_content": null,
      "justify_items": null,
      "left": null,
      "margin": null,
      "max_height": null,
      "max_width": null,
      "min_height": null,
      "min_width": null,
      "object_fit": null,
      "object_position": null,
      "order": null,
      "overflow": null,
      "overflow_x": null,
      "overflow_y": null,
      "padding": null,
      "right": null,
      "top": null,
      "visibility": null,
      "width": null
     }
    },
    "c7f17b64732e428da15485fb59264fa5": {
     "model_module": "@jupyter-widgets/controls",
     "model_name": "FloatProgressModel",
     "state": {
      "_dom_classes": [],
      "_model_module": "@jupyter-widgets/controls",
      "_model_module_version": "1.5.0",
      "_model_name": "FloatProgressModel",
      "_view_count": null,
      "_view_module": "@jupyter-widgets/controls",
      "_view_module_version": "1.5.0",
      "_view_name": "ProgressView",
      "bar_style": "success",
      "description": "",
      "description_tooltip": null,
      "layout": "IPY_MODEL_b56ae043dd86488ab049403f6f42d780",
      "max": 1,
      "min": 0,
      "orientation": "horizontal",
      "style": "IPY_MODEL_a8162416d956436dbf5c973d7de95e91",
      "value": 1
     }
    },
    "cc7ccc2687ff4ba29758fd35c0237ce8": {
     "model_module": "@jupyter-widgets/base",
     "model_name": "LayoutModel",
     "state": {
      "_model_module": "@jupyter-widgets/base",
      "_model_module_version": "1.2.0",
      "_model_name": "LayoutModel",
      "_view_count": null,
      "_view_module": "@jupyter-widgets/base",
      "_view_module_version": "1.2.0",
      "_view_name": "LayoutView",
      "align_content": null,
      "align_items": null,
      "align_self": null,
      "border": null,
      "bottom": null,
      "display": null,
      "flex": null,
      "flex_flow": null,
      "grid_area": null,
      "grid_auto_columns": null,
      "grid_auto_flow": null,
      "grid_auto_rows": null,
      "grid_column": null,
      "grid_gap": null,
      "grid_row": null,
      "grid_template_areas": null,
      "grid_template_columns": null,
      "grid_template_rows": null,
      "height": null,
      "justify_content": null,
      "justify_items": null,
      "left": null,
      "margin": null,
      "max_height": null,
      "max_width": null,
      "min_height": null,
      "min_width": null,
      "object_fit": null,
      "object_position": null,
      "order": null,
      "overflow": null,
      "overflow_x": null,
      "overflow_y": null,
      "padding": null,
      "right": null,
      "top": null,
      "visibility": null,
      "width": null
     }
    },
    "dbf7fa669e384e3aaa5bdddd2521afc8": {
     "model_module": "@jupyter-widgets/base",
     "model_name": "LayoutModel",
     "state": {
      "_model_module": "@jupyter-widgets/base",
      "_model_module_version": "1.2.0",
      "_model_name": "LayoutModel",
      "_view_count": null,
      "_view_module": "@jupyter-widgets/base",
      "_view_module_version": "1.2.0",
      "_view_name": "LayoutView",
      "align_content": null,
      "align_items": null,
      "align_self": null,
      "border": null,
      "bottom": null,
      "display": null,
      "flex": null,
      "flex_flow": null,
      "grid_area": null,
      "grid_auto_columns": null,
      "grid_auto_flow": null,
      "grid_auto_rows": null,
      "grid_column": null,
      "grid_gap": null,
      "grid_row": null,
      "grid_template_areas": null,
      "grid_template_columns": null,
      "grid_template_rows": null,
      "height": null,
      "justify_content": null,
      "justify_items": null,
      "left": null,
      "margin": null,
      "max_height": null,
      "max_width": null,
      "min_height": null,
      "min_width": null,
      "object_fit": null,
      "object_position": null,
      "order": null,
      "overflow": null,
      "overflow_x": null,
      "overflow_y": null,
      "padding": null,
      "right": null,
      "top": null,
      "visibility": null,
      "width": null
     }
    },
    "e2e3d40e202f4f6f919db70b3ff77f06": {
     "model_module": "@jupyter-widgets/controls",
     "model_name": "ProgressStyleModel",
     "state": {
      "_model_module": "@jupyter-widgets/controls",
      "_model_module_version": "1.5.0",
      "_model_name": "ProgressStyleModel",
      "_view_count": null,
      "_view_module": "@jupyter-widgets/base",
      "_view_module_version": "1.2.0",
      "_view_name": "StyleView",
      "bar_color": null,
      "description_width": "initial"
     }
    },
    "ec3d449e668a488fb0730d59916d65d4": {
     "model_module": "@jupyter-widgets/controls",
     "model_name": "HTMLModel",
     "state": {
      "_dom_classes": [],
      "_model_module": "@jupyter-widgets/controls",
      "_model_module_version": "1.5.0",
      "_model_name": "HTMLModel",
      "_view_count": null,
      "_view_module": "@jupyter-widgets/controls",
      "_view_module_version": "1.5.0",
      "_view_name": "HTMLView",
      "description": "",
      "description_tooltip": null,
      "layout": "IPY_MODEL_b972085e759145f380d19427e4aed8a7",
      "placeholder": "​",
      "style": "IPY_MODEL_aed8fb882fdf41f8a09a1b8749e5b4fe",
      "value": " 8192/? [00:00&lt;00:00, 19432.21it/s]"
     }
    },
    "f0c886e61c1d4bab987e5f6cf4fed10d": {
     "model_module": "@jupyter-widgets/controls",
     "model_name": "HTMLModel",
     "state": {
      "_dom_classes": [],
      "_model_module": "@jupyter-widgets/controls",
      "_model_module_version": "1.5.0",
      "_model_name": "HTMLModel",
      "_view_count": null,
      "_view_module": "@jupyter-widgets/controls",
      "_view_module_version": "1.5.0",
      "_view_name": "HTMLView",
      "description": "",
      "description_tooltip": null,
      "layout": "IPY_MODEL_1e813d6318d946bc91e74d345b69bd8c",
      "placeholder": "​",
      "style": "IPY_MODEL_ff81f1c02cb643f482f871847e252e6e",
      "value": " 1654784/? [00:01&lt;00:00, 1353971.11it/s]"
     }
    },
    "ff81f1c02cb643f482f871847e252e6e": {
     "model_module": "@jupyter-widgets/controls",
     "model_name": "DescriptionStyleModel",
     "state": {
      "_model_module": "@jupyter-widgets/controls",
      "_model_module_version": "1.5.0",
      "_model_name": "DescriptionStyleModel",
      "_view_count": null,
      "_view_module": "@jupyter-widgets/base",
      "_view_module_version": "1.2.0",
      "_view_name": "StyleView",
      "description_width": ""
     }
    }
   }
  }
 },
 "nbformat": 4,
 "nbformat_minor": 1
}
